{
 "cells": [
  {
   "cell_type": "markdown",
   "metadata": {},
   "source": [
    "### 고려대학교 신입생 코딩 테스트"
   ]
  },
  {
   "cell_type": "code",
   "execution_count": 5,
   "metadata": {},
   "outputs": [
    {
     "name": "stdout",
     "output_type": "stream",
     "text": [
      "range(0, 5)\n"
     ]
    }
   ],
   "source": [
    "# range는 연속되는 숫자를 만든다\n",
    "q = range(5)\n",
    "print(q)"
   ]
  },
  {
   "cell_type": "code",
   "execution_count": 1,
   "metadata": {},
   "outputs": [
    {
     "name": "stdout",
     "output_type": "stream",
     "text": [
      "5 6\n",
      "123456\n",
      "654321\n",
      "789456\n",
      "654987\n",
      "789456\n",
      "654987\n",
      "789798\n",
      "897987\n",
      "789789\n",
      "987987\n"
     ]
    }
   ],
   "source": [
    "# 코드 출처 : https://claude-u.tistory.com/346\n",
    "# 정답 코드\n",
    "\n",
    "N , M = map(int,input().split())\n",
    "for _ in range(N):\n",
    "    print(input()[::-1])"
   ]
  },
  {
   "cell_type": "code",
   "execution_count": 2,
   "metadata": {},
   "outputs": [
    {
     "name": "stdout",
     "output_type": "stream",
     "text": [
      "4 5\n",
      "123456\n",
      "654321\n",
      "123123\n",
      "321321\n",
      "456456\n",
      "654654\n",
      "789798\n",
      "897987\n"
     ]
    }
   ],
   "source": [
    "# M값을 초과하는 수를 입력해도 작동은 잘 된다는걸 알 수 있음\n",
    "# M값을 5로 입력했느데 실제로 문제를 풀때는 6개의 숫자를 입력해보았다 -> 정상 작동\n",
    "\n",
    "N, M = map(int, input().split())\n",
    "for _ in range(N):\n",
    "    print(input()[::-1])"
   ]
  },
  {
   "cell_type": "code",
   "execution_count": 3,
   "metadata": {},
   "outputs": [
    {
     "name": "stdout",
     "output_type": "stream",
     "text": [
      "3\n",
      "123456789\n",
      "987654321\n",
      "123456789\n",
      "987654321\n",
      "123456789\n",
      "987654321\n"
     ]
    }
   ],
   "source": [
    "# 그래서 M값을 빼고 N값만 넣고 작동시켜도 상관없을 것이라고 생각\n",
    "# 위의 코드와 같은 결과가 나옴\n",
    "\n",
    "N = int(input())\n",
    "for _ in range(N):\n",
    "    print(input()[::-1])"
   ]
  },
  {
   "cell_type": "code",
   "execution_count": 4,
   "metadata": {},
   "outputs": [
    {
     "name": "stdout",
     "output_type": "stream",
     "text": [
      "5\n",
      "123456\n",
      "654321\n",
      "123456\n",
      "654321\n",
      "123456\n",
      "654321\n",
      "123456\n",
      "654321\n",
      "123456\n",
      "654321\n"
     ]
    }
   ],
   "source": [
    "# 백준 코드에 아래의 코드를 런타임 에러가 뜬다\n",
    "\n",
    "a = int(input())\n",
    "\n",
    "for i in range(a):\n",
    "    print(input()[::-1])"
   ]
  },
  {
   "cell_type": "code",
   "execution_count": null,
   "metadata": {},
   "outputs": [],
   "source": [
    "# 변수를 한 개 더 만들고 제출하니, 정답이 되었다\n",
    "# 변수를 한 개 더 만들어 줘야 하는 이유는? 문제에서 2개의 변수를 입력하고 했기 때문이다\n",
    "\n",
    "a,b = map(int,input().split())\n",
    "\n",
    "for i in range(a):\n",
    "    print(input()[::-1])"
   ]
  }
 ],
 "metadata": {
  "kernelspec": {
   "display_name": "Python 3",
   "language": "python",
   "name": "python3"
  },
  "language_info": {
   "codemirror_mode": {
    "name": "ipython",
    "version": 3
   },
   "file_extension": ".py",
   "mimetype": "text/x-python",
   "name": "python",
   "nbconvert_exporter": "python",
   "pygments_lexer": "ipython3",
   "version": "3.7.4"
  }
 },
 "nbformat": 4,
 "nbformat_minor": 2
}
